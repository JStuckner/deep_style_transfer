{
 "cells": [
  {
   "cell_type": "code",
   "execution_count": 1,
   "id": "ed68ddb9",
   "metadata": {},
   "outputs": [
    {
     "name": "stdout",
     "output_type": "stream",
     "text": [
      "Press Ctrl-C to quit.\n"
     ]
    }
   ],
   "source": [
    "import pyautogui as pag\n",
    "import pyperclip\n",
    "import time\n",
    "import numpy as np\n",
    "from random import random, randint\n",
    "import os\n",
    "print('Press Ctrl-C to quit.')"
   ]
  },
  {
   "cell_type": "code",
   "execution_count": 157,
   "id": "5a68b0b4",
   "metadata": {},
   "outputs": [],
   "source": [
    "def get_num_tracks():\n",
    "    start_x, start_y = 890, 513\n",
    "    y_move_amount = 59\n",
    "    current_x, current_y = start_x, start_y\n",
    "    for i in range(14):\n",
    "        #get color\n",
    "        c = pag.pixel(current_x, current_y)\n",
    "        current_y += y_move_amount\n",
    "        if c[0] < 25 or c[0] > 30:\n",
    "            return i\n",
    "    return 14\n",
    "        \n",
    "def get_release_title():\n",
    "    #triple click title\n",
    "    pag.moveTo(490+randint(-10,10), 327+randint(-10,10))\n",
    "    time.sleep(0.1+random()/4)\n",
    "    pag.click()\n",
    "    time.sleep(0.1)\n",
    "    pag.click()\n",
    "    time.sleep(0.1)\n",
    "    pag.click()\n",
    "    time.sleep(0.1+random()/4)\n",
    "    pag.hotkey('ctrl', 'c', interval = 0.15)\n",
    "    time.sleep(0.1+random()/4)\n",
    "    return pyperclip.paste().strip()\n",
    "\n",
    "def go_to_release(index):\n",
    "    # reset position\n",
    "    time.sleep(0.1+random()/4)\n",
    "    pag.moveTo(49+randint(-5,5), 225+randint(-5,5))\n",
    "    pag.click()\n",
    "    time.sleep(1.25)\n",
    "    \n",
    "    # load all releases by scrolling down\n",
    "    pag.moveTo(300+randint(-5,5), 300+randint(-5,5))\n",
    "    for i in range(20):\n",
    "        time.sleep(0.5+random()/4)\n",
    "        pag.scroll(-300000)\n",
    "        \n",
    "    # scroll all the way back up\n",
    "    for i in range(20):\n",
    "        time.sleep(0.25+random()/4)\n",
    "        pag.scroll(300000)\n",
    "    \n",
    "    # scroll to position\n",
    "    pag.moveTo(300+randint(-5,5), 300+randint(-5,5))\n",
    "    scroll_down_times = int(index / 15)\n",
    "    for _ in range(scroll_down_times):\n",
    "        time.sleep(1+random())\n",
    "        pag.scroll(-200000)\n",
    "        \n",
    "    # move to position\n",
    "    time.sleep(0.3+random()/4)\n",
    "    x_choices = [300, 477, 748]\n",
    "    y_choices = [306, 506, 767, 1073, 1240]\n",
    "    index = index % 15\n",
    "    move_down = int(index/3)\n",
    "    move_right = index % 3\n",
    "    print(index+scroll_down_times*15, move_down, move_right)\n",
    "    x_pos = x_choices[move_right] + randint(-5,5)\n",
    "    y_pos = y_choices[move_down] + randint(-5,5) + scroll_down_times*10\n",
    "    pag.moveTo(x_pos, y_pos)\n",
    "    time.sleep(0.3+random()/4)\n",
    "    pag.click()\n",
    "    time.sleep(1+random()/4)\n",
    "    \n",
    "    "
   ]
  },
  {
   "cell_type": "code",
   "execution_count": 178,
   "id": "77e217ff",
   "metadata": {},
   "outputs": [
    {
     "name": "stdout",
     "output_type": "stream",
     "text": [
      "197 0 2\n",
      "Movie Scene 1\n",
      "198 1 0\n",
      "199 1 1\n",
      "200 1 2\n",
      "Indelible 1\n",
      "201 2 0\n",
      "Chillhop Essentials Winter 2017 9\n",
      "202 2 1\n",
      "Isla Bella 1\n",
      "203 2 2\n",
      "204 3 0\n",
      "Taiga Native 9\n",
      "205 3 1\n",
      "Chillhop Essentials Fall 2017 8\n",
      "206 3 2\n",
      "207 4 0\n",
      "208 4 1\n",
      "209 4 2\n",
      "210 0 0\n",
      "Taiga Native 9\n",
      "211 0 1\n",
      "212 0 2\n",
      "213 1 0\n",
      "214 1 1\n",
      "215 1 2\n",
      "216 2 0\n",
      "217 2 1\n",
      "218 2 2\n",
      "219 3 0\n"
     ]
    }
   ],
   "source": [
    "for r in range(197, 220):\n",
    "#for r in [117,118,119,132,133,134,147,148,149]:\n",
    "#for r in range(1):\n",
    "    time.sleep(1)\n",
    "    go_to_release(r)\n",
    "    time.sleep(2)\n",
    "    # Release name\n",
    "    n_tracks = get_num_tracks()\n",
    "    if n_tracks == 0:\n",
    "        continue\n",
    "    release = get_release_title().replace('/', '_')\n",
    "    print(release, n_tracks)\n",
    "\n",
    "    dl_dir = 'C:\\\\deep_style_beats\\\\audio\\\\chillhop\\\\' + release\n",
    "    txt_path = dl_dir + '\\\\track_list.txt'\n",
    "\n",
    "    if not os.path.exists(dl_dir):\n",
    "        os.makedirs(dl_dir)\n",
    "\n",
    "    # track select parameters\n",
    "    start_x, start_y = 890, 513\n",
    "    #start_x, start_y = 872, 513\n",
    "    current_x, current_y = start_x, start_y\n",
    "    y_move_amount = 59\n",
    "\n",
    "    # download click params\n",
    "    from_track_to_download = 95\n",
    "    copy_x, copy_y = 933, 750\n",
    "    dl_x, dl_y = 550, 662\n",
    "    dl_ok_x, dl_ok_y = 900, 840\n",
    "    path_x, path_y = 800, 50\n",
    "    save_x, save_y = 1031, 688\n",
    "    close_x, close_y = 957, 574\n",
    "\n",
    "    with open(txt_path, 'w+') as f:\n",
    "        for i in range(n_tracks):\n",
    "            if i == 13:\n",
    "                continue\n",
    "            #move to position\n",
    "            dl_adjust = -20 if n_tracks == 14 else 0\n",
    "            pag.moveTo(current_x+dl_adjust, current_y)\n",
    "            time.sleep(random()/4)\n",
    "\n",
    "            # click download\n",
    "            pag.click()\n",
    "            time.sleep(random()/4)\n",
    "            pag.moveTo(current_x-randint(5,20)+dl_adjust, current_y+from_track_to_download+randint(-2,2))\n",
    "            time.sleep(random()/4)\n",
    "            pag.click()\n",
    "            time.sleep(random()/4)\n",
    "\n",
    "            #click copy\n",
    "            adjustx, adjusty = 0, 0\n",
    "            time.sleep(2)\n",
    "            pag.moveTo(copy_x+randint(-5,5)+adjustx, copy_y+randint(-5,5)+adjusty)\n",
    "            pag.click()\n",
    "            f.write(pyperclip.paste())\n",
    "            f.write('\\n')\n",
    "            time.sleep(random())\n",
    "\n",
    "            #click download\n",
    "            pag.moveTo(dl_x+randint(-200,200)+adjustx, dl_y+randint(-5,5)+adjusty)\n",
    "            time.sleep(random()/4)\n",
    "            pag.click()\n",
    "            time.sleep(random()+3)\n",
    "\n",
    "            #click ok\n",
    "            pag.moveTo(dl_ok_x+randint(-15,15), dl_ok_y+randint(-5,5))\n",
    "            time.sleep(random()/4)\n",
    "            pag.click()\n",
    "            time.sleep(random())\n",
    "\n",
    "            #type path\n",
    "            if i == 0:\n",
    "                pag.moveTo(path_x+randint(-15,15), path_y+randint(-5,5))\n",
    "                time.sleep(random()/4)\n",
    "                pag.click()\n",
    "                pyperclip.copy(dl_dir)\n",
    "                pag.hotkey('ctrl', 'v', interval = 0.15)\n",
    "                time.sleep(random()/4)\n",
    "                pag.press('enter')\n",
    "                time.sleep(random())\n",
    "\n",
    "            #click save\n",
    "            pag.moveTo(save_x+randint(-15,15)+adjustx, save_y+randint(-5,5)+adjusty)\n",
    "            time.sleep(random()/4)\n",
    "            pag.click()\n",
    "            time.sleep(random())\n",
    "\n",
    "            #click \"x\" on download dialog\n",
    "            pag.moveTo(close_x+randint(-3,3), close_y+randint(-3,3))\n",
    "            time.sleep(random()/4)\n",
    "            pag.click()\n",
    "            time.sleep(random())\n",
    "\n",
    "            #prep for next\n",
    "            current_y += y_move_amount + randint(-2,2)\n",
    "            current_x += randint(-2,2)\n",
    "            time.sleep(random())\n",
    "    "
   ]
  },
  {
   "cell_type": "code",
   "execution_count": 113,
   "id": "fcfd8f7d",
   "metadata": {},
   "outputs": [
    {
     "name": "stdout",
     "output_type": "stream",
     "text": [
      "(25, 25, 25)\n",
      "(25, 25, 25)\n",
      "(25, 25, 25)\n",
      "(25, 25, 25)\n",
      "(25, 25, 25)\n",
      "(25, 25, 25)\n",
      "(25, 25, 25)\n",
      "(25, 25, 25)\n",
      "(17, 17, 17)\n"
     ]
    },
    {
     "data": {
      "text/plain": [
       "8"
      ]
     },
     "execution_count": 113,
     "metadata": {},
     "output_type": "execute_result"
    }
   ],
   "source": [
    "get_num_tracks()"
   ]
  },
  {
   "cell_type": "code",
   "execution_count": 134,
   "id": "c4181551",
   "metadata": {},
   "outputs": [
    {
     "name": "stdout",
     "output_type": "stream",
     "text": [
      "Point(x=1883, y=874)\n",
      "Point(x=875, y=512)\n",
      "Point(x=875, y=512)\n",
      "Point(x=897, y=517)\n",
      "Point(x=918, y=521)\n",
      "Point(x=918, y=521)\n",
      "Point(x=870, y=516)\n",
      "Point(x=870, y=516)\n",
      "Point(x=870, y=516)\n",
      "Point(x=870, y=516)\n"
     ]
    }
   ],
   "source": [
    "for i in range(10):\n",
    "    print(pag.position())\n",
    "    time.sleep(1)"
   ]
  },
  {
   "cell_type": "code",
   "execution_count": 7,
   "id": "9227a10b",
   "metadata": {},
   "outputs": [
    {
     "data": {
      "text/plain": [
       "60.8"
      ]
     },
     "execution_count": 7,
     "metadata": {},
     "output_type": "execute_result"
    }
   ],
   "source": [
    "np.mean([809-751, 751-687, 687-626, 626-550, 550-505])"
   ]
  },
  {
   "cell_type": "code",
   "execution_count": 48,
   "id": "33f38e0d",
   "metadata": {},
   "outputs": [
    {
     "name": "stdout",
     "output_type": "stream",
     "text": [
      "C:\\deep_style_beats\\audio\\chillhop\\\\Cycles\n"
     ]
    }
   ],
   "source": [
    "print(dl_dir)"
   ]
  },
  {
   "cell_type": "code",
   "execution_count": null,
   "id": "a3766286",
   "metadata": {},
   "outputs": [],
   "source": [
    "for i in range(10):\n",
    "    print(pag.position())\n",
    "    time.sleep(1)"
   ]
  }
 ],
 "metadata": {
  "kernelspec": {
   "display_name": "Python 3",
   "language": "python",
   "name": "python3"
  },
  "language_info": {
   "codemirror_mode": {
    "name": "ipython",
    "version": 3
   },
   "file_extension": ".py",
   "mimetype": "text/x-python",
   "name": "python",
   "nbconvert_exporter": "python",
   "pygments_lexer": "ipython3",
   "version": "3.7.10"
  }
 },
 "nbformat": 4,
 "nbformat_minor": 5
}
