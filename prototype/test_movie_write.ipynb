{
 "cells": [
  {
   "cell_type": "code",
   "execution_count": 53,
   "id": "053af609",
   "metadata": {},
   "outputs": [],
   "source": [
    "import imageio\n",
    "import cv2\n",
    "import subprocess\n",
    "import librosa\n",
    "import soundfile as sf\n",
    "import sys\n",
    "import os"
   ]
  },
  {
   "cell_type": "code",
   "execution_count": 18,
   "id": "ee3fbb94",
   "metadata": {},
   "outputs": [],
   "source": [
    "# load frames\n",
    "frames = []\n",
    "for i in range(120):\n",
    "    frames.append(imageio.imread(\"input_photos/you_me_and_ever.jpg\"))"
   ]
  },
  {
   "cell_type": "code",
   "execution_count": 40,
   "id": "3624dfb5",
   "metadata": {},
   "outputs": [],
   "source": [
    "# write video no audio\n",
    "out_video_path = 'output_video/test_video_only.avi'\n",
    "writer = imageio.get_writer(out_video_path, fps=30)\n",
    "for f in frames:\n",
    "    writer.append_data(f)\n",
    "writer.close()"
   ]
  },
  {
   "cell_type": "code",
   "execution_count": 43,
   "id": "773a2b81",
   "metadata": {},
   "outputs": [],
   "source": [
    "# write audio file\n",
    "out_audio_path = 'output_video/test_audio_only.wav'\n",
    "data, sr = librosa.load('audio/disclosure.wav', offset=90.0, duration=4.0)\n",
    "sf.write(out_audio_path, data, sr)"
   ]
  },
  {
   "cell_type": "code",
   "execution_count": 85,
   "id": "8476491e",
   "metadata": {},
   "outputs": [
    {
     "name": "stdout",
     "output_type": "stream",
     "text": [
      "ffmpeg -i 'C:\\Users\\Joshua Stuckner\\Documents\\code\\style_transfer\\output_video\\test_video_only.avi' -i 'C:\\Users\\Joshua Stuckner\\Documents\\code\\style_transfer\\output_video\\test_audio_only.wav' -c copy -map 0:v:0 -map 1:a:0 'C:\\Users\\Joshua Stuckner\\Documents\\code\\style_transfer\\output_video\\test_audio_video.avi'\n",
      "['ffmpeg', '-i', \"'C:\\\\Users\\\\Joshua\", \"Stuckner\\\\Documents\\\\code\\\\style_transfer\\\\output_video\\\\test_video_only.avi'\", '-i', \"'C:\\\\Users\\\\Joshua\", \"Stuckner\\\\Documents\\\\code\\\\style_transfer\\\\output_video\\\\test_audio_only.wav'\", '-c', 'copy', '-map', '0:v:0', '-map', '1:a:0', \"'C:\\\\Users\\\\Joshua\", \"Stuckner\\\\Documents\\\\code\\\\style_transfer\\\\output_video\\\\test_audio_video.avi'\"]\n"
     ]
    },
    {
     "data": {
      "text/plain": [
       "1"
      ]
     },
     "execution_count": 85,
     "metadata": {},
     "output_type": "execute_result"
    }
   ],
   "source": [
    "# combine with ffmpeg\n",
    "in_audio = \"'\" + os.getcwd() + r\"\\output_video\\test_audio_only.wav'\"\n",
    "in_video = \"'\" + os.getcwd() + r\"\\output_video\\test_video_only.avi'\"\n",
    "out_path = \"'\" + os.getcwd() + r\"\\output_video\\test_audio_video.avi'\"\n",
    "\n",
    "\n",
    "# in_audio = r\"'output_video\\test_audio_only.wav'\"\n",
    "# in_video = r\"'output_video\\test_video_only.avi'\"\n",
    "# out_path = r\"'output_video\\test_audio_video.avi'\"\n",
    "\n",
    "# in_audio =  os.getcwd() + r\"\\output_video\\test_audio_only.wav\"\n",
    "# in_video = os.getcwd() + r\"\\output_video\\test_video_only.avi\"\n",
    "# out_path = os.getcwd() + r\"\\output_video\\test_audio_video.avi\"\n",
    "\n",
    "\n",
    "command = 'ffmpeg -i ' + in_video + ' -i ' + in_audio + ' -c copy -map 0:v:0 -map 1:a:0 ' + out_path\n",
    "print(command)\n",
    "print(command.split())\n",
    "subprocess.call(command, shell=True)"
   ]
  },
  {
   "cell_type": "code",
   "execution_count": 56,
   "id": "6e619c5e",
   "metadata": {},
   "outputs": [
    {
     "data": {
      "text/plain": [
       "'C:\\\\Users\\\\Joshua Stuckner\\\\Documents\\\\code\\\\style_transfer'"
      ]
     },
     "execution_count": 56,
     "metadata": {},
     "output_type": "execute_result"
    }
   ],
   "source": [
    "os.getcwd()"
   ]
  },
  {
   "cell_type": "code",
   "execution_count": null,
   "id": "2e8c22a9",
   "metadata": {},
   "outputs": [],
   "source": []
  }
 ],
 "metadata": {
  "kernelspec": {
   "display_name": "Python 3",
   "language": "python",
   "name": "python3"
  },
  "language_info": {
   "codemirror_mode": {
    "name": "ipython",
    "version": 3
   },
   "file_extension": ".py",
   "mimetype": "text/x-python",
   "name": "python",
   "nbconvert_exporter": "python",
   "pygments_lexer": "ipython3",
   "version": "3.7.10"
  }
 },
 "nbformat": 4,
 "nbformat_minor": 5
}
