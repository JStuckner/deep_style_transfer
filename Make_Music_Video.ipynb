{
 "cells": [
  {
   "cell_type": "code",
   "execution_count": 1,
   "id": "1c100c53",
   "metadata": {},
   "outputs": [
    {
     "data": {
      "text/html": [
       "<style>div.output_subarea { padding:unset;}</style>"
      ],
      "text/plain": [
       "<IPython.core.display.HTML object>"
      ]
     },
     "metadata": {},
     "output_type": "display_data"
    }
   ],
   "source": [
    "import imageio\n",
    "import cv2\n",
    "import subprocess\n",
    "import librosa\n",
    "import librosa.display\n",
    "import soundfile as sf\n",
    "import os\n",
    "import torch\n",
    "from torchvision import transforms\n",
    "from inference.Inferencer import Inferencer\n",
    "from models.PasticheModel import PasticheModel\n",
    "from PIL import Image\n",
    "import matplotlib.pyplot as plt\n",
    "import numpy as np\n",
    "from IPython.display import Audio\n",
    "from PIL import Image\n",
    "from pathlib import Path\n",
    "import tqdm.notebook as tq\n",
    "import pandas as pd\n",
    "from scipy.ndimage import gaussian_filter\n",
    "\n",
    "pd.set_option('display.max_rows', 500)\n",
    "from IPython.core.display import HTML, display\n",
    "def rm_out_padding(): display(HTML(\"<style>div.output_subarea { padding:unset;}</style>\"))\n",
    "rm_out_padding()"
   ]
  },
  {
   "cell_type": "code",
   "execution_count": 2,
   "id": "fd4a7578",
   "metadata": {},
   "outputs": [],
   "source": [
    "def get_beats(audio, n_freqs, gauss_size=6, std_window=150):\n",
    "    audio = np.split(audio, n_freqs, axis=0)\n",
    "    out = []\n",
    "    \n",
    "    def rolling_window(a, window):\n",
    "        pad = np.ones(len(a.shape), dtype=np.int32)\n",
    "        pad[-1] = window-1\n",
    "        pad = list(zip(pad, np.zeros(len(a.shape), dtype=np.int32)))\n",
    "        a = np.pad(a, pad,mode='reflect')\n",
    "        shape = a.shape[:-1] + (a.shape[-1] - window + 1, window)\n",
    "        strides = a.strides + (a.strides[-1],)\n",
    "        return np.lib.stride_tricks.as_strided(a, shape=shape, strides=strides)\n",
    "    \n",
    "    for z in audio:\n",
    "        #print(z.shape)\n",
    "        filt = gaussian_filter(z, sigma=[0, gauss_size])\n",
    "        filt = np.var(rolling_window(filt, std_window), axis=-1)[:-1, :]\n",
    "        #print(filt.shape)\n",
    "        out.append([z[a, i] for i, a in enumerate(np.argmax(filt, axis=0))])\n",
    "\n",
    "    return out\n",
    "\n",
    "def get_transformation(im, pos, strength=1):\n",
    "    #im = reference frame\n",
    "    #pos is float from 0 to 1 that interps between the images\n",
    "    #strength float 0 to 1 that sets blending between ref and transformed image. strength 1 is 100% transformed\n",
    "    pos = pos - int(pos)\n",
    "    style_1 = int(pos*16)\n",
    "    style_2 = style_1 + 1 if style_1 < 15 else 0\n",
    "    blend = pos*16 - style_1\n",
    "    out = np.array(inference.eval_image(im, style_1, style_2, 1-blend))\n",
    "    shape = [1080, 1920]\n",
    "    styled = cv2.resize(out, dsize=(shape[1], shape[0]), interpolation=cv2.INTER_NEAREST)\n",
    "    ref = np.array(ref_im, dtype='uint8')\n",
    "    ref = cv2.resize(ref, dsize=(shape[1], shape[0]), interpolation=cv2.INTER_NEAREST)\n",
    "    out = np.array(strength * styled + (1-strength) * ref, dtype='uint8')\n",
    "    return out\n",
    "\n",
    "def get_multi_transformations(im, pos, masks, strength=1):\n",
    "    if type(strength) is not list:\n",
    "        strength = [strength for s in range(len(pos))]\n",
    "    out = get_transformation(im, pos[0], strength=strength[0]) * masks[0]\n",
    "    for i, p in enumerate(pos[1:]):\n",
    "        out += get_transformation(im, pos[i+1], strength=strength[i+1]) * masks[i+1]\n",
    "    return out\n",
    "\n",
    "def get_ref_and_masks(folder):\n",
    "    files = os.listdir(folder)\n",
    "    ref_im_path = [i for i in files if 'ref' in i][0]\n",
    "    mask_paths = [i for i in files if 'mask' in i]\n",
    "    ref_im = Image.open(folder + '\\\\' + ref_im_path).convert('RGB')\n",
    "    #try:\n",
    "    masks = [cv2.resize(np.where(imageio.imread(folder + '\\\\' + mp, as_gray=False, pilmode=\"RGB\")[:,:,:3]>120,1,0), dsize=(1920, 1080), interpolation=cv2.INTER_NEAREST) for mp in mask_paths]\n",
    "#     except IndexError:\n",
    "#         masks = [cv2.resize(np.where(imageio.imread(folder + '\\\\' + mp, cv2.IMREAD_COLOR)>120,1,0), dsize=(1920, 1080), interpolation=cv2.INTER_NEAREST) for mp in mask_paths]\n",
    "    # make sure there is no overlap\n",
    "    for i, m in enumerate(masks[1:]):\n",
    "        for j in range(i+1):\n",
    "            m -= m * masks[j]\n",
    "            \n",
    "    # add a background mask\n",
    "    masks.append(np.where(masks[0]==1, 1,0))\n",
    "    for m in masks[:-1]:\n",
    "        masks[-1] += m\n",
    "    masks[-1] = np.where(masks[-1]==0, 1, 0)\n",
    "    \n",
    "    return ref_im, masks\n",
    "\n",
    "#prep images\n",
    "def prep_transformations(im, inference, ims_per_style, strength=1, num_styles=16):\n",
    "    transformed_images = []\n",
    "    tmp_path = r'tmp_images\\\\'\n",
    "    shape = np.array(im).shape\n",
    "    ref = np.array(im)\n",
    "    ref = cv2.resize(ref, dsize=(1920, 1080), interpolation=cv2.INTER_NEAREST)\n",
    "    for i in tq.trange(num_styles, desc='Prepping styles'):\n",
    "        for j in range(ims_per_style):\n",
    "            fname = 't_style_%d_blend_%d_str_%d.png'%(i, j, strength*100)\n",
    "            style_2 = i + 1 if i < 15 else 0\n",
    "            tmp = inference.eval_image(im, i, style_2, 1-(j/ims_per_style))\n",
    "            tmp = np.array(tmp)\n",
    "            tmp = cv2.resize(tmp, dsize=(1920, 1080), interpolation=cv2.INTER_NEAREST)\n",
    "            transformed_images.append(np.array(strength * tmp + (1-strength) * ref, dtype='uint8'))\n",
    "            #tmp = np.array(strength * tmp + (1-strength) * ref, dtype='uint8')\n",
    "            #imageio.imsave(tmp_path+fname, tmp)\n",
    "                           \n",
    "    return transformed_images\n",
    "\n",
    "def get_transform_from_prepped_multi(t_ims, pos, mask, str_index, ims_per_style, num_styles=16):\n",
    "    if type(str_index) is not list:\n",
    "        str_index = [str_index for s in range(len(pos))]\n",
    "    #make so last mask is last pos and last str\n",
    "    str_index[len(mask)-1] = str_index[-1]\n",
    "    pos[len(mask)-1] = pos[-1]\n",
    "    \n",
    "    pos = [p - int(p) for p in pos][:len(mask)]\n",
    "    \n",
    "    t_index = int(round(pos[0]*ims_per_style*num_styles))\n",
    "    t_index = 0 if t_index == len(t_ims[0]) else t_index\n",
    "    out = mask[0] * t_ims[str_index[0]][t_index]\n",
    "    for i, p in enumerate(pos[1:]):\n",
    "        t_index = int(round(p*ims_per_style*num_styles))\n",
    "        t_index = 0 if t_index == len(t_ims[0]) else t_index\n",
    "        try:\n",
    "            out += mask[i+1] * t_ims[str_index[i+1]][t_index]\n",
    "        except IndexError:\n",
    "            print(i, len(mask), len(str_index), t_index, len(t_ims[0]))\n",
    "    return out\n",
    "\n",
    "def load_model(model_save_dir):\n",
    "    device = torch.device(\"cuda\" if torch.cuda.is_available() else \"cpu\")\n",
    "    num_styles = 16\n",
    "    image_size = 512\n",
    "    pastichemodel = PasticheModel(num_styles)\n",
    "    inference = Inferencer(pastichemodel,device,image_size)\n",
    "    inference.load_model_weights(model_save_dir)\n",
    "    return inference\n",
    "\n",
    "def create_music_video(tracks, image_folders, models, ims_per_style=20):\n",
    "    pos1_floor = 0\n",
    "    pos2_floor = 0.4\n",
    "    pos3_floor = 0.65\n",
    "    pos4 = 0.85\n",
    "    for ii, t in tracks.reset_index().iterrows():\n",
    "        # get ref_ims\n",
    "        ref_im, masks = get_ref_and_masks(image_folders[ii % len(image_folders)])\n",
    "        \n",
    "        # load model and transform images\n",
    "        index = int(ii/len(image_folders)) % len(models)\n",
    "        inference = load_model(models[index])\n",
    "        t_ims_str_high = prep_transformations(ref_im, inference, ims_per_style)\n",
    "        t_ims_str_low = prep_transformations(ref_im, inference, ims_per_style, strength=0.6)\n",
    "        t_ims = [t_ims_str_high, t_ims_str_low]\n",
    "        \n",
    "        # load and analyze audio\n",
    "        z, sr = librosa.load(t.fpath.replace(\"'\", \"&#39;\"), offset = 0.0, duration = None)\n",
    "        out_audio_path = r'C:\\deep_style_beats\\audio\\tmp.wav'\n",
    "        sf.write(out_audio_path, z, sr)\n",
    "        _, z = librosa.effects.hpss(z)\n",
    "        hop_length = 735\n",
    "        Nfft = 2048\n",
    "        n_mels = 100\n",
    "        bass_clip = 3\n",
    "        z = librosa.feature.melspectrogram(z, sr=sr, n_fft=Nfft, hop_length=hop_length, n_mels=n_mels+bass_clip)\n",
    "        z = z[bass_clip:, :] #clip lowest bass\n",
    "        z= librosa.power_to_db(z)\n",
    "        z = (z - z.min()) / (z.max() - z.min())\n",
    "        z = get_beats(z, 4)\n",
    "#         print(len(z))\n",
    "#         print(len(z[0]))\n",
    "#         print(z[0][200])\n",
    "        \n",
    "        # setup video\n",
    "        out_video_path = r'C:\\deep_style_beats\\video\\tmp.avi'\n",
    "        writer = imageio.get_writer(out_video_path, fps=30, mode='I', macro_block_size=1)\n",
    "        for i in tq.trange(len(z[0]), desc=t.title):\n",
    "#             print(i)\n",
    "#             print(len(z))\n",
    "#             print(len(z[0]))\n",
    "    #         if i%30 == 0:\n",
    "    #             print(i/30)\n",
    "            pos_move = 1/2000 #was 1/1000\n",
    "            pos1_floor += pos_move + z[0][i]/1200\n",
    "            pos2_floor += pos_move + z[2][i]/1200\n",
    "            pos3_floor += pos_move + z[1][i]/1200\n",
    "            pos1 = pos1_floor + z[0][i]/16\n",
    "            pos2 = pos2_floor + z[2][i]/16\n",
    "            pos3 = pos3_floor + z[1][i]/16\n",
    "            pos4 += z[3][i]/300 + 1/2000\n",
    "            pos = [pos1, pos2, pos3, pos4]\n",
    "            str_index = [0 for i in range(len(masks))]\n",
    "            str_index[-1] = 1\n",
    "            im = get_transform_from_prepped_multi(t_ims, pos, masks, str_index, ims_per_style)\n",
    "            writer.append_data(np.array(im, dtype='uint8'))\n",
    "        writer.close()\n",
    "        out_path = r'C:\\deep_style_beats\\composed_video\\\\' + t.title.replace(\"'\", \"&#39;\") + '.avi'\n",
    "        out_path = out_path.replace(' ', '_')\n",
    "        command = 'ffmpeg -i ' + out_video_path + ' -i ' + out_audio_path + ' -c copy -map 0:v:0 -map 1:a:0 ' + out_path\n",
    "        #print(command)\n",
    "        subprocess.call(command, shell=True)\n",
    "\n",
    "def parse_track_list(list_paths, mode='chillhop'):\n",
    "    #list_paths should be a text file with track lists\n",
    "    tl = []\n",
    "    for lp in list_paths:\n",
    "        with open(lp, 'r', encoding='ansi') as f:\n",
    "            try:\n",
    "                for l in f:\n",
    "                    if l.strip() == '':\n",
    "                        continue\n",
    "                    t = {}\n",
    "                    try:\n",
    "                        t['artist'], res = l.split(' - ')\n",
    "                    except ValueError:\n",
    "                        print(lp)\n",
    "                        print(l)\n",
    "                        print(hello)\n",
    "                    t['title'] = res.split(' https:')[0]\n",
    "                    t['link'] = res.split(t['title']+' ')[1].rstrip()\n",
    "                    t['fpath'] = lp.replace('track_list.txt', t['title'] + '.mp3')\n",
    "                    tl.append(t)\n",
    "            except UnicodeDecodeError:\n",
    "                print(lp)\n",
    "    return pd.DataFrame.from_dict(tl)\n",
    "\n",
    "def print_track_list(mode='chillhop'):\n",
    "    start_time = 0\n",
    "    for t in tracks:  \n",
    "        minutes, seconds = divmod(start_time, 60)\n",
    "        hours, minutes = divmod(minutes, 60)\n",
    "        print(\"%02d:%02d\"%(minutes,seconds), t.split('.')[0])\n",
    "        zt, sr = librosa.load(audio_dir+t, offset = 0.0, duration = None, sr=bad_sr)\n",
    "        start_time += librosa.get_duration(zt, bad_sr)\n",
    "        \n",
    "def split_df(df, n, random_state=1):\n",
    "    #randomly splits the dataframe into n parts\n",
    "    df = df.sample(frac=1, random_state=random_state)\n",
    "    return np.split(df, n)"
   ]
  },
  {
   "cell_type": "code",
   "execution_count": 3,
   "id": "054e7436",
   "metadata": {},
   "outputs": [],
   "source": [
    "\n",
    "#this_df = this_df[this_df.title != 'Lonely Waves']\n",
    "#this_df"
   ]
  },
  {
   "cell_type": "code",
   "execution_count": 4,
   "id": "298b0448",
   "metadata": {},
   "outputs": [],
   "source": [
    "# get track lists\n",
    "set_folder = r'C:\\deep_style_beats\\audio\\chillhop\\set3'\n",
    "release_folders = [x[0] for x in os.walk(set_folder)][1:]\n",
    "\n",
    "list_paths = [r + '\\\\track_list.txt' for r in release_folders]\n",
    "df = parse_track_list(list_paths)\n",
    "df = split_df(df, 14)\n",
    "#df1 = df_both.sample(frac=0.5, random_state=1)\n",
    "#df2 = df_both.drop(df1.index).sample(frac=1, random_state=1)"
   ]
  },
  {
   "cell_type": "code",
   "execution_count": 5,
   "id": "d297c1a8",
   "metadata": {},
   "outputs": [
    {
     "data": {
      "text/plain": [
       "14"
      ]
     },
     "execution_count": 5,
     "metadata": {},
     "output_type": "execute_result"
    }
   ],
   "source": [
    "len(df)"
   ]
  },
  {
   "cell_type": "code",
   "execution_count": 6,
   "id": "71458422",
   "metadata": {},
   "outputs": [
    {
     "data": {
      "text/html": [
       "<div>\n",
       "<style scoped>\n",
       "    .dataframe tbody tr th:only-of-type {\n",
       "        vertical-align: middle;\n",
       "    }\n",
       "\n",
       "    .dataframe tbody tr th {\n",
       "        vertical-align: top;\n",
       "    }\n",
       "\n",
       "    .dataframe thead th {\n",
       "        text-align: right;\n",
       "    }\n",
       "</style>\n",
       "<table border=\"1\" class=\"dataframe\">\n",
       "  <thead>\n",
       "    <tr style=\"text-align: right;\">\n",
       "      <th></th>\n",
       "      <th>artist</th>\n",
       "      <th>title</th>\n",
       "      <th>link</th>\n",
       "      <th>fpath</th>\n",
       "    </tr>\n",
       "  </thead>\n",
       "  <tbody>\n",
       "    <tr>\n",
       "      <th>304</th>\n",
       "      <td>Swørn</td>\n",
       "      <td>Feeling Lost</td>\n",
       "      <td>https://chll.to/13909f85</td>\n",
       "      <td>C:\\deep_style_beats\\audio\\chillhop\\set3\\Reflec...</td>\n",
       "    </tr>\n",
       "    <tr>\n",
       "      <th>17</th>\n",
       "      <td>SwuM</td>\n",
       "      <td>Aries</td>\n",
       "      <td>https://chll.to/e31fa393</td>\n",
       "      <td>C:\\deep_style_beats\\audio\\chillhop\\set3\\Aries\\...</td>\n",
       "    </tr>\n",
       "    <tr>\n",
       "      <th>306</th>\n",
       "      <td>Swørn</td>\n",
       "      <td>Upset (hold it in)</td>\n",
       "      <td>https://chll.to/910d700a</td>\n",
       "      <td>C:\\deep_style_beats\\audio\\chillhop\\set3\\Reflec...</td>\n",
       "    </tr>\n",
       "    <tr>\n",
       "      <th>246</th>\n",
       "      <td>Leavv</td>\n",
       "      <td>Lighthouse</td>\n",
       "      <td>https://chll.to/e55fb9f1</td>\n",
       "      <td>C:\\deep_style_beats\\audio\\chillhop\\set3\\Mind G...</td>\n",
       "    </tr>\n",
       "    <tr>\n",
       "      <th>381</th>\n",
       "      <td>Ward Wills</td>\n",
       "      <td>Comfort</td>\n",
       "      <td>https://chll.to/14736651</td>\n",
       "      <td>C:\\deep_style_beats\\audio\\chillhop\\set3\\When T...</td>\n",
       "    </tr>\n",
       "    <tr>\n",
       "      <th>180</th>\n",
       "      <td>Philanthrope, mommy</td>\n",
       "      <td>everything you say</td>\n",
       "      <td>https://chll.to/b9099ee6</td>\n",
       "      <td>C:\\deep_style_beats\\audio\\chillhop\\set3\\Inaudi...</td>\n",
       "    </tr>\n",
       "    <tr>\n",
       "      <th>343</th>\n",
       "      <td>Dontcry, Nokiaa</td>\n",
       "      <td>Eastway</td>\n",
       "      <td>https://chll.to/218bde2f</td>\n",
       "      <td>C:\\deep_style_beats\\audio\\chillhop\\set3\\Stray\\...</td>\n",
       "    </tr>\n",
       "    <tr>\n",
       "      <th>247</th>\n",
       "      <td>Leavv</td>\n",
       "      <td>Voyage</td>\n",
       "      <td>https://chll.to/d4e44865</td>\n",
       "      <td>C:\\deep_style_beats\\audio\\chillhop\\set3\\Mind G...</td>\n",
       "    </tr>\n",
       "    <tr>\n",
       "      <th>192</th>\n",
       "      <td>fantompower</td>\n",
       "      <td>Endless Ether</td>\n",
       "      <td>https://chll.to/d60e90af</td>\n",
       "      <td>C:\\deep_style_beats\\audio\\chillhop\\set3\\infini...</td>\n",
       "    </tr>\n",
       "    <tr>\n",
       "      <th>174</th>\n",
       "      <td>Sleepy Fish</td>\n",
       "      <td>Fireplace</td>\n",
       "      <td>https://chll.to/63eed366</td>\n",
       "      <td>C:\\deep_style_beats\\audio\\chillhop\\set3\\In My ...</td>\n",
       "    </tr>\n",
       "    <tr>\n",
       "      <th>207</th>\n",
       "      <td>Cloudchord, Soul Food Horns</td>\n",
       "      <td>Sleep Shop</td>\n",
       "      <td>https://chll.to/909bb4c4</td>\n",
       "      <td>C:\\deep_style_beats\\audio\\chillhop\\set3\\Koi Po...</td>\n",
       "    </tr>\n",
       "    <tr>\n",
       "      <th>11</th>\n",
       "      <td>Toonorth</td>\n",
       "      <td>Wistful</td>\n",
       "      <td>https://chll.to/0537dc35</td>\n",
       "      <td>C:\\deep_style_beats\\audio\\chillhop\\set3\\Ambedo...</td>\n",
       "    </tr>\n",
       "    <tr>\n",
       "      <th>291</th>\n",
       "      <td>L'Indécis</td>\n",
       "      <td>Rekindling</td>\n",
       "      <td>https://chll.to/c2e9382c</td>\n",
       "      <td>C:\\deep_style_beats\\audio\\chillhop\\set3\\Playti...</td>\n",
       "    </tr>\n",
       "    <tr>\n",
       "      <th>41</th>\n",
       "      <td>Sleepy Fish</td>\n",
       "      <td>Winter Winter</td>\n",
       "      <td>https://chll.to/2579a2fa</td>\n",
       "      <td>C:\\deep_style_beats\\audio\\chillhop\\set3\\Beneat...</td>\n",
       "    </tr>\n",
       "    <tr>\n",
       "      <th>318</th>\n",
       "      <td>Strehlow</td>\n",
       "      <td>Hibiscus Emoji</td>\n",
       "      <td>https://chll.to/d376fba2</td>\n",
       "      <td>C:\\deep_style_beats\\audio\\chillhop\\set3\\Sleep ...</td>\n",
       "    </tr>\n",
       "    <tr>\n",
       "      <th>289</th>\n",
       "      <td>L'Indécis</td>\n",
       "      <td>Le Sud</td>\n",
       "      <td>https://chll.to/e64037ec</td>\n",
       "      <td>C:\\deep_style_beats\\audio\\chillhop\\set3\\Playti...</td>\n",
       "    </tr>\n",
       "    <tr>\n",
       "      <th>213</th>\n",
       "      <td>Aso</td>\n",
       "      <td>Snug</td>\n",
       "      <td>https://chll.to/91b1fc4b</td>\n",
       "      <td>C:\\deep_style_beats\\audio\\chillhop\\set3\\Late N...</td>\n",
       "    </tr>\n",
       "    <tr>\n",
       "      <th>315</th>\n",
       "      <td>L'Indécis</td>\n",
       "      <td>Intro</td>\n",
       "      <td>https://chll.to/fac89641</td>\n",
       "      <td>C:\\deep_style_beats\\audio\\chillhop\\set3\\Second...</td>\n",
       "    </tr>\n",
       "    <tr>\n",
       "      <th>23</th>\n",
       "      <td>Philanthrope, cocabona, Monma, Misha, Louk</td>\n",
       "      <td>Searching</td>\n",
       "      <td>https://chll.to/698c89a1</td>\n",
       "      <td>C:\\deep_style_beats\\audio\\chillhop\\set3\\Aura\\S...</td>\n",
       "    </tr>\n",
       "    <tr>\n",
       "      <th>293</th>\n",
       "      <td>Aviino</td>\n",
       "      <td>Goodmorning</td>\n",
       "      <td>https://chll.to/c07bc1b7</td>\n",
       "      <td>C:\\deep_style_beats\\audio\\chillhop\\set3\\Plush\\...</td>\n",
       "    </tr>\n",
       "    <tr>\n",
       "      <th>13</th>\n",
       "      <td>Toonorth</td>\n",
       "      <td>Foggy Road</td>\n",
       "      <td>https://chll.to/52c11197</td>\n",
       "      <td>C:\\deep_style_beats\\audio\\chillhop\\set3\\Ambedo...</td>\n",
       "    </tr>\n",
       "    <tr>\n",
       "      <th>90</th>\n",
       "      <td>xander.</td>\n",
       "      <td>Fate</td>\n",
       "      <td>https://chll.to/c82b41af</td>\n",
       "      <td>C:\\deep_style_beats\\audio\\chillhop\\set3\\Dreams...</td>\n",
       "    </tr>\n",
       "    <tr>\n",
       "      <th>61</th>\n",
       "      <td>Psalm Trees, Guillaume Muschalle</td>\n",
       "      <td>Clocks Forward</td>\n",
       "      <td>https://chll.to/e2bc3e87</td>\n",
       "      <td>C:\\deep_style_beats\\audio\\chillhop\\set3\\Clocks...</td>\n",
       "    </tr>\n",
       "    <tr>\n",
       "      <th>334</th>\n",
       "      <td>Moods, Yasper</td>\n",
       "      <td>Sofa Stories</td>\n",
       "      <td>https://chll.to/0184cf69</td>\n",
       "      <td>C:\\deep_style_beats\\audio\\chillhop\\set3\\Sofa S...</td>\n",
       "    </tr>\n",
       "    <tr>\n",
       "      <th>258</th>\n",
       "      <td>santpoort</td>\n",
       "      <td>nomads of the sea</td>\n",
       "      <td>https://chll.to/ddf3631e</td>\n",
       "      <td>C:\\deep_style_beats\\audio\\chillhop\\set3\\mudfla...</td>\n",
       "    </tr>\n",
       "    <tr>\n",
       "      <th>139</th>\n",
       "      <td>Tesk, No Spirit, Sitting Duck</td>\n",
       "      <td>Driftaway</td>\n",
       "      <td>https://chll.to/902241a9</td>\n",
       "      <td>C:\\deep_style_beats\\audio\\chillhop\\set3\\Friend...</td>\n",
       "    </tr>\n",
       "    <tr>\n",
       "      <th>310</th>\n",
       "      <td>No Spirit</td>\n",
       "      <td>Something Warm</td>\n",
       "      <td>https://chll.to/c3b9af2b</td>\n",
       "      <td>C:\\deep_style_beats\\audio\\chillhop\\set3\\Remini...</td>\n",
       "    </tr>\n",
       "    <tr>\n",
       "      <th>349</th>\n",
       "      <td>Kupla</td>\n",
       "      <td>Mercadia</td>\n",
       "      <td>https://chll.to/d78f675e</td>\n",
       "      <td>C:\\deep_style_beats\\audio\\chillhop\\set3\\Taiga ...</td>\n",
       "    </tr>\n",
       "  </tbody>\n",
       "</table>\n",
       "</div>"
      ],
      "text/plain": [
       "                                         artist               title  \\\n",
       "304                                       Swørn        Feeling Lost   \n",
       "17                                         SwuM               Aries   \n",
       "306                                       Swørn  Upset (hold it in)   \n",
       "246                                       Leavv          Lighthouse   \n",
       "381                                  Ward Wills             Comfort   \n",
       "180                         Philanthrope, mommy  everything you say   \n",
       "343                             Dontcry, Nokiaa             Eastway   \n",
       "247                                       Leavv              Voyage   \n",
       "192                                 fantompower       Endless Ether   \n",
       "174                                 Sleepy Fish           Fireplace   \n",
       "207                 Cloudchord, Soul Food Horns          Sleep Shop   \n",
       "11                                     Toonorth             Wistful   \n",
       "291                                   L'Indécis          Rekindling   \n",
       "41                                  Sleepy Fish       Winter Winter   \n",
       "318                                    Strehlow      Hibiscus Emoji   \n",
       "289                                   L'Indécis              Le Sud   \n",
       "213                                         Aso                Snug   \n",
       "315                                   L'Indécis               Intro   \n",
       "23   Philanthrope, cocabona, Monma, Misha, Louk           Searching   \n",
       "293                                      Aviino         Goodmorning   \n",
       "13                                     Toonorth          Foggy Road   \n",
       "90                                      xander.                Fate   \n",
       "61             Psalm Trees, Guillaume Muschalle      Clocks Forward   \n",
       "334                               Moods, Yasper        Sofa Stories   \n",
       "258                                   santpoort   nomads of the sea   \n",
       "139               Tesk, No Spirit, Sitting Duck           Driftaway   \n",
       "310                                   No Spirit      Something Warm   \n",
       "349                                       Kupla            Mercadia   \n",
       "\n",
       "                         link  \\\n",
       "304  https://chll.to/13909f85   \n",
       "17   https://chll.to/e31fa393   \n",
       "306  https://chll.to/910d700a   \n",
       "246  https://chll.to/e55fb9f1   \n",
       "381  https://chll.to/14736651   \n",
       "180  https://chll.to/b9099ee6   \n",
       "343  https://chll.to/218bde2f   \n",
       "247  https://chll.to/d4e44865   \n",
       "192  https://chll.to/d60e90af   \n",
       "174  https://chll.to/63eed366   \n",
       "207  https://chll.to/909bb4c4   \n",
       "11   https://chll.to/0537dc35   \n",
       "291  https://chll.to/c2e9382c   \n",
       "41   https://chll.to/2579a2fa   \n",
       "318  https://chll.to/d376fba2   \n",
       "289  https://chll.to/e64037ec   \n",
       "213  https://chll.to/91b1fc4b   \n",
       "315  https://chll.to/fac89641   \n",
       "23   https://chll.to/698c89a1   \n",
       "293  https://chll.to/c07bc1b7   \n",
       "13   https://chll.to/52c11197   \n",
       "90   https://chll.to/c82b41af   \n",
       "61   https://chll.to/e2bc3e87   \n",
       "334  https://chll.to/0184cf69   \n",
       "258  https://chll.to/ddf3631e   \n",
       "139  https://chll.to/902241a9   \n",
       "310  https://chll.to/c3b9af2b   \n",
       "349  https://chll.to/d78f675e   \n",
       "\n",
       "                                                 fpath  \n",
       "304  C:\\deep_style_beats\\audio\\chillhop\\set3\\Reflec...  \n",
       "17   C:\\deep_style_beats\\audio\\chillhop\\set3\\Aries\\...  \n",
       "306  C:\\deep_style_beats\\audio\\chillhop\\set3\\Reflec...  \n",
       "246  C:\\deep_style_beats\\audio\\chillhop\\set3\\Mind G...  \n",
       "381  C:\\deep_style_beats\\audio\\chillhop\\set3\\When T...  \n",
       "180  C:\\deep_style_beats\\audio\\chillhop\\set3\\Inaudi...  \n",
       "343  C:\\deep_style_beats\\audio\\chillhop\\set3\\Stray\\...  \n",
       "247  C:\\deep_style_beats\\audio\\chillhop\\set3\\Mind G...  \n",
       "192  C:\\deep_style_beats\\audio\\chillhop\\set3\\infini...  \n",
       "174  C:\\deep_style_beats\\audio\\chillhop\\set3\\In My ...  \n",
       "207  C:\\deep_style_beats\\audio\\chillhop\\set3\\Koi Po...  \n",
       "11   C:\\deep_style_beats\\audio\\chillhop\\set3\\Ambedo...  \n",
       "291  C:\\deep_style_beats\\audio\\chillhop\\set3\\Playti...  \n",
       "41   C:\\deep_style_beats\\audio\\chillhop\\set3\\Beneat...  \n",
       "318  C:\\deep_style_beats\\audio\\chillhop\\set3\\Sleep ...  \n",
       "289  C:\\deep_style_beats\\audio\\chillhop\\set3\\Playti...  \n",
       "213  C:\\deep_style_beats\\audio\\chillhop\\set3\\Late N...  \n",
       "315  C:\\deep_style_beats\\audio\\chillhop\\set3\\Second...  \n",
       "23   C:\\deep_style_beats\\audio\\chillhop\\set3\\Aura\\S...  \n",
       "293  C:\\deep_style_beats\\audio\\chillhop\\set3\\Plush\\...  \n",
       "13   C:\\deep_style_beats\\audio\\chillhop\\set3\\Ambedo...  \n",
       "90   C:\\deep_style_beats\\audio\\chillhop\\set3\\Dreams...  \n",
       "61   C:\\deep_style_beats\\audio\\chillhop\\set3\\Clocks...  \n",
       "334  C:\\deep_style_beats\\audio\\chillhop\\set3\\Sofa S...  \n",
       "258  C:\\deep_style_beats\\audio\\chillhop\\set3\\mudfla...  \n",
       "139  C:\\deep_style_beats\\audio\\chillhop\\set3\\Friend...  \n",
       "310  C:\\deep_style_beats\\audio\\chillhop\\set3\\Remini...  \n",
       "349  C:\\deep_style_beats\\audio\\chillhop\\set3\\Taiga ...  "
      ]
     },
     "execution_count": 6,
     "metadata": {},
     "output_type": "execute_result"
    }
   ],
   "source": [
    "df[2]"
   ]
  },
  {
   "cell_type": "code",
   "execution_count": 7,
   "id": "6f83cdce",
   "metadata": {},
   "outputs": [
    {
     "data": {
      "application/vnd.jupyter.widget-view+json": {
       "model_id": "fd2c4713b2d44b598a6feba59234b2c3",
       "version_major": 2,
       "version_minor": 0
      },
      "text/plain": [
       "Prepping styles:   0%|          | 0/16 [00:00<?, ?it/s]"
      ]
     },
     "metadata": {},
     "output_type": "display_data"
    },
    {
     "data": {
      "application/vnd.jupyter.widget-view+json": {
       "model_id": "8f6864241d7c4fa893e43d4d6e45f94f",
       "version_major": 2,
       "version_minor": 0
      },
      "text/plain": [
       "Prepping styles:   0%|          | 0/16 [00:00<?, ?it/s]"
      ]
     },
     "metadata": {},
     "output_type": "display_data"
    },
    {
     "data": {
      "application/vnd.jupyter.widget-view+json": {
       "model_id": "fe7173fbe88840f7a94974f6a5649444",
       "version_major": 2,
       "version_minor": 0
      },
      "text/plain": [
       "Feeling Lost:   0%|          | 0/3799 [00:00<?, ?it/s]"
      ]
     },
     "metadata": {},
     "output_type": "display_data"
    },
    {
     "data": {
      "application/vnd.jupyter.widget-view+json": {
       "model_id": "b99f8b2212b9461c8f81514e86c0278a",
       "version_major": 2,
       "version_minor": 0
      },
      "text/plain": [
       "Prepping styles:   0%|          | 0/16 [00:00<?, ?it/s]"
      ]
     },
     "metadata": {},
     "output_type": "display_data"
    },
    {
     "data": {
      "application/vnd.jupyter.widget-view+json": {
       "model_id": "48fb9f06b95541588cc99478eb1ef3b0",
       "version_major": 2,
       "version_minor": 0
      },
      "text/plain": [
       "Prepping styles:   0%|          | 0/16 [00:00<?, ?it/s]"
      ]
     },
     "metadata": {},
     "output_type": "display_data"
    },
    {
     "data": {
      "application/vnd.jupyter.widget-view+json": {
       "model_id": "d00f5f2ffde648daa19e6a70a7cabc53",
       "version_major": 2,
       "version_minor": 0
      },
      "text/plain": [
       "Aries:   0%|          | 0/4804 [00:00<?, ?it/s]"
      ]
     },
     "metadata": {},
     "output_type": "display_data"
    },
    {
     "data": {
      "application/vnd.jupyter.widget-view+json": {
       "model_id": "c9e6a6c657574443af108b50aede89d8",
       "version_major": 2,
       "version_minor": 0
      },
      "text/plain": [
       "Prepping styles:   0%|          | 0/16 [00:00<?, ?it/s]"
      ]
     },
     "metadata": {},
     "output_type": "display_data"
    },
    {
     "data": {
      "application/vnd.jupyter.widget-view+json": {
       "model_id": "00978904965642d88435f2a5933608b7",
       "version_major": 2,
       "version_minor": 0
      },
      "text/plain": [
       "Prepping styles:   0%|          | 0/16 [00:00<?, ?it/s]"
      ]
     },
     "metadata": {},
     "output_type": "display_data"
    },
    {
     "data": {
      "application/vnd.jupyter.widget-view+json": {
       "model_id": "3a496a95bf474b78b7411151173c8ed6",
       "version_major": 2,
       "version_minor": 0
      },
      "text/plain": [
       "Upset (hold it in):   0%|          | 0/3186 [00:00<?, ?it/s]"
      ]
     },
     "metadata": {},
     "output_type": "display_data"
    },
    {
     "data": {
      "application/vnd.jupyter.widget-view+json": {
       "model_id": "ec85bcf301cc440c941d08489f3a78ff",
       "version_major": 2,
       "version_minor": 0
      },
      "text/plain": [
       "Prepping styles:   0%|          | 0/16 [00:00<?, ?it/s]"
      ]
     },
     "metadata": {},
     "output_type": "display_data"
    },
    {
     "data": {
      "application/vnd.jupyter.widget-view+json": {
       "model_id": "b86c0551413f4fdba1ac270c7b5635b9",
       "version_major": 2,
       "version_minor": 0
      },
      "text/plain": [
       "Prepping styles:   0%|          | 0/16 [00:00<?, ?it/s]"
      ]
     },
     "metadata": {},
     "output_type": "display_data"
    },
    {
     "data": {
      "application/vnd.jupyter.widget-view+json": {
       "model_id": "8fd2c92bad39409c83b625f5f52e28c4",
       "version_major": 2,
       "version_minor": 0
      },
      "text/plain": [
       "Lighthouse:   0%|          | 0/4179 [00:00<?, ?it/s]"
      ]
     },
     "metadata": {},
     "output_type": "display_data"
    },
    {
     "data": {
      "application/vnd.jupyter.widget-view+json": {
       "model_id": "c14708f01ff74c87b33af2422cd5d741",
       "version_major": 2,
       "version_minor": 0
      },
      "text/plain": [
       "Prepping styles:   0%|          | 0/16 [00:00<?, ?it/s]"
      ]
     },
     "metadata": {},
     "output_type": "display_data"
    },
    {
     "data": {
      "application/vnd.jupyter.widget-view+json": {
       "model_id": "4b00e948a46348cf80ee18b5d0bd8147",
       "version_major": 2,
       "version_minor": 0
      },
      "text/plain": [
       "Prepping styles:   0%|          | 0/16 [00:00<?, ?it/s]"
      ]
     },
     "metadata": {},
     "output_type": "display_data"
    },
    {
     "data": {
      "application/vnd.jupyter.widget-view+json": {
       "model_id": "9ccbd19235c147febf430134c728bef7",
       "version_major": 2,
       "version_minor": 0
      },
      "text/plain": [
       "Comfort:   0%|          | 0/5356 [00:00<?, ?it/s]"
      ]
     },
     "metadata": {},
     "output_type": "display_data"
    },
    {
     "data": {
      "application/vnd.jupyter.widget-view+json": {
       "model_id": "449b627747bb43c3a75995c67089c366",
       "version_major": 2,
       "version_minor": 0
      },
      "text/plain": [
       "Prepping styles:   0%|          | 0/16 [00:00<?, ?it/s]"
      ]
     },
     "metadata": {},
     "output_type": "display_data"
    },
    {
     "data": {
      "application/vnd.jupyter.widget-view+json": {
       "model_id": "cf3d3d5ff2bd490d94307376f8aa1321",
       "version_major": 2,
       "version_minor": 0
      },
      "text/plain": [
       "Prepping styles:   0%|          | 0/16 [00:00<?, ?it/s]"
      ]
     },
     "metadata": {},
     "output_type": "display_data"
    },
    {
     "data": {
      "application/vnd.jupyter.widget-view+json": {
       "model_id": "aefa067d701b493c9f32882a5fbfcb47",
       "version_major": 2,
       "version_minor": 0
      },
      "text/plain": [
       "everything you say:   0%|          | 0/4756 [00:00<?, ?it/s]"
      ]
     },
     "metadata": {},
     "output_type": "display_data"
    },
    {
     "data": {
      "application/vnd.jupyter.widget-view+json": {
       "model_id": "8f3bb6ebb59643138c8c247fa52145cb",
       "version_major": 2,
       "version_minor": 0
      },
      "text/plain": [
       "Prepping styles:   0%|          | 0/16 [00:00<?, ?it/s]"
      ]
     },
     "metadata": {},
     "output_type": "display_data"
    },
    {
     "data": {
      "application/vnd.jupyter.widget-view+json": {
       "model_id": "a591de541a8f4c71b207334a951d7d0d",
       "version_major": 2,
       "version_minor": 0
      },
      "text/plain": [
       "Prepping styles:   0%|          | 0/16 [00:00<?, ?it/s]"
      ]
     },
     "metadata": {},
     "output_type": "display_data"
    },
    {
     "data": {
      "application/vnd.jupyter.widget-view+json": {
       "model_id": "9ff4f37613a04981b439ac1d7bed2e86",
       "version_major": 2,
       "version_minor": 0
      },
      "text/plain": [
       "Eastway:   0%|          | 0/4401 [00:00<?, ?it/s]"
      ]
     },
     "metadata": {},
     "output_type": "display_data"
    },
    {
     "data": {
      "application/vnd.jupyter.widget-view+json": {
       "model_id": "d2b17b84e7644f44ac4f06636b0b9eaa",
       "version_major": 2,
       "version_minor": 0
      },
      "text/plain": [
       "Prepping styles:   0%|          | 0/16 [00:00<?, ?it/s]"
      ]
     },
     "metadata": {},
     "output_type": "display_data"
    },
    {
     "data": {
      "application/vnd.jupyter.widget-view+json": {
       "model_id": "80f99c027ec24fd389a7093df781ec02",
       "version_major": 2,
       "version_minor": 0
      },
      "text/plain": [
       "Prepping styles:   0%|          | 0/16 [00:00<?, ?it/s]"
      ]
     },
     "metadata": {},
     "output_type": "display_data"
    },
    {
     "data": {
      "application/vnd.jupyter.widget-view+json": {
       "model_id": "dfd95b38b1bc416baa3f746c07a07cfb",
       "version_major": 2,
       "version_minor": 0
      },
      "text/plain": [
       "Voyage:   0%|          | 0/4179 [00:00<?, ?it/s]"
      ]
     },
     "metadata": {},
     "output_type": "display_data"
    },
    {
     "data": {
      "application/vnd.jupyter.widget-view+json": {
       "model_id": "a9adad38a6264789ac51078373e8344f",
       "version_major": 2,
       "version_minor": 0
      },
      "text/plain": [
       "Prepping styles:   0%|          | 0/16 [00:00<?, ?it/s]"
      ]
     },
     "metadata": {},
     "output_type": "display_data"
    },
    {
     "data": {
      "application/vnd.jupyter.widget-view+json": {
       "model_id": "c67296bd8c1246dd81665e1be02aeb31",
       "version_major": 2,
       "version_minor": 0
      },
      "text/plain": [
       "Prepping styles:   0%|          | 0/16 [00:00<?, ?it/s]"
      ]
     },
     "metadata": {},
     "output_type": "display_data"
    },
    {
     "data": {
      "application/vnd.jupyter.widget-view+json": {
       "model_id": "efad72da214842839438ed1f3eace616",
       "version_major": 2,
       "version_minor": 0
      },
      "text/plain": [
       "Endless Ether:   0%|          | 0/6057 [00:00<?, ?it/s]"
      ]
     },
     "metadata": {},
     "output_type": "display_data"
    },
    {
     "data": {
      "application/vnd.jupyter.widget-view+json": {
       "model_id": "4c0172ad29f34a358d69d4645419eaf1",
       "version_major": 2,
       "version_minor": 0
      },
      "text/plain": [
       "Prepping styles:   0%|          | 0/16 [00:00<?, ?it/s]"
      ]
     },
     "metadata": {},
     "output_type": "display_data"
    },
    {
     "data": {
      "application/vnd.jupyter.widget-view+json": {
       "model_id": "96900b39003b43eaa61e51a1d0af53f8",
       "version_major": 2,
       "version_minor": 0
      },
      "text/plain": [
       "Prepping styles:   0%|          | 0/16 [00:00<?, ?it/s]"
      ]
     },
     "metadata": {},
     "output_type": "display_data"
    },
    {
     "data": {
      "application/vnd.jupyter.widget-view+json": {
       "model_id": "eb23f1a24300453d950ebe063af242b7",
       "version_major": 2,
       "version_minor": 0
      },
      "text/plain": [
       "Fireplace:   0%|          | 0/4766 [00:00<?, ?it/s]"
      ]
     },
     "metadata": {},
     "output_type": "display_data"
    },
    {
     "data": {
      "application/vnd.jupyter.widget-view+json": {
       "model_id": "664abeb5615c4053ba2be3ff518eb101",
       "version_major": 2,
       "version_minor": 0
      },
      "text/plain": [
       "Prepping styles:   0%|          | 0/16 [00:00<?, ?it/s]"
      ]
     },
     "metadata": {},
     "output_type": "display_data"
    },
    {
     "data": {
      "application/vnd.jupyter.widget-view+json": {
       "model_id": "61a0f2dc109a499887b0bb5a89a90bfa",
       "version_major": 2,
       "version_minor": 0
      },
      "text/plain": [
       "Prepping styles:   0%|          | 0/16 [00:00<?, ?it/s]"
      ]
     },
     "metadata": {},
     "output_type": "display_data"
    },
    {
     "data": {
      "application/vnd.jupyter.widget-view+json": {
       "model_id": "5a617158b05b40d2b2b25b6717965f42",
       "version_major": 2,
       "version_minor": 0
      },
      "text/plain": [
       "Sleep Shop:   0%|          | 0/4151 [00:00<?, ?it/s]"
      ]
     },
     "metadata": {},
     "output_type": "display_data"
    },
    {
     "data": {
      "application/vnd.jupyter.widget-view+json": {
       "model_id": "228784d5c34a4759bee9036c3bb2491e",
       "version_major": 2,
       "version_minor": 0
      },
      "text/plain": [
       "Prepping styles:   0%|          | 0/16 [00:00<?, ?it/s]"
      ]
     },
     "metadata": {},
     "output_type": "display_data"
    },
    {
     "data": {
      "application/vnd.jupyter.widget-view+json": {
       "model_id": "d94d0f4ba6ec4c46a9de404fe7ee8a74",
       "version_major": 2,
       "version_minor": 0
      },
      "text/plain": [
       "Prepping styles:   0%|          | 0/16 [00:00<?, ?it/s]"
      ]
     },
     "metadata": {},
     "output_type": "display_data"
    },
    {
     "data": {
      "application/vnd.jupyter.widget-view+json": {
       "model_id": "ac3e4411e6e6484bb283fa1967a64f10",
       "version_major": 2,
       "version_minor": 0
      },
      "text/plain": [
       "Wistful:   0%|          | 0/9125 [00:00<?, ?it/s]"
      ]
     },
     "metadata": {},
     "output_type": "display_data"
    },
    {
     "data": {
      "application/vnd.jupyter.widget-view+json": {
       "model_id": "afa227d28f5249fd9468a23a2324adde",
       "version_major": 2,
       "version_minor": 0
      },
      "text/plain": [
       "Prepping styles:   0%|          | 0/16 [00:00<?, ?it/s]"
      ]
     },
     "metadata": {},
     "output_type": "display_data"
    },
    {
     "data": {
      "application/vnd.jupyter.widget-view+json": {
       "model_id": "f9bd5746410d4c16a046ab2d01f595af",
       "version_major": 2,
       "version_minor": 0
      },
      "text/plain": [
       "Prepping styles:   0%|          | 0/16 [00:00<?, ?it/s]"
      ]
     },
     "metadata": {},
     "output_type": "display_data"
    },
    {
     "data": {
      "application/vnd.jupyter.widget-view+json": {
       "model_id": "1590931cb80841479317f4a7a9c48602",
       "version_major": 2,
       "version_minor": 0
      },
      "text/plain": [
       "Rekindling:   0%|          | 0/6241 [00:00<?, ?it/s]"
      ]
     },
     "metadata": {},
     "output_type": "display_data"
    },
    {
     "data": {
      "application/vnd.jupyter.widget-view+json": {
       "model_id": "b3a7a5421ef541189a4ba51ea9482696",
       "version_major": 2,
       "version_minor": 0
      },
      "text/plain": [
       "Prepping styles:   0%|          | 0/16 [00:00<?, ?it/s]"
      ]
     },
     "metadata": {},
     "output_type": "display_data"
    },
    {
     "data": {
      "application/vnd.jupyter.widget-view+json": {
       "model_id": "9b99d1d5740a4e36af4dbea103d827c1",
       "version_major": 2,
       "version_minor": 0
      },
      "text/plain": [
       "Prepping styles:   0%|          | 0/16 [00:00<?, ?it/s]"
      ]
     },
     "metadata": {},
     "output_type": "display_data"
    },
    {
     "data": {
      "application/vnd.jupyter.widget-view+json": {
       "model_id": "c21b2f5c1c8d4fc8b88f05e417a21dc2",
       "version_major": 2,
       "version_minor": 0
      },
      "text/plain": [
       "Winter Winter:   0%|          | 0/6346 [00:00<?, ?it/s]"
      ]
     },
     "metadata": {},
     "output_type": "display_data"
    },
    {
     "data": {
      "application/vnd.jupyter.widget-view+json": {
       "model_id": "c3d1e565f17e4447bae53529f3cde3d0",
       "version_major": 2,
       "version_minor": 0
      },
      "text/plain": [
       "Prepping styles:   0%|          | 0/16 [00:00<?, ?it/s]"
      ]
     },
     "metadata": {},
     "output_type": "display_data"
    },
    {
     "data": {
      "application/vnd.jupyter.widget-view+json": {
       "model_id": "a816c83b163c4883a25988b64e85781d",
       "version_major": 2,
       "version_minor": 0
      },
      "text/plain": [
       "Prepping styles:   0%|          | 0/16 [00:00<?, ?it/s]"
      ]
     },
     "metadata": {},
     "output_type": "display_data"
    },
    {
     "data": {
      "application/vnd.jupyter.widget-view+json": {
       "model_id": "571ae5f2db614fa8a91cf24e6e4716e2",
       "version_major": 2,
       "version_minor": 0
      },
      "text/plain": [
       "Hibiscus Emoji:   0%|          | 0/3545 [00:00<?, ?it/s]"
      ]
     },
     "metadata": {},
     "output_type": "display_data"
    },
    {
     "data": {
      "application/vnd.jupyter.widget-view+json": {
       "model_id": "2b00c5a3302f4b81a55595d9d577986c",
       "version_major": 2,
       "version_minor": 0
      },
      "text/plain": [
       "Prepping styles:   0%|          | 0/16 [00:00<?, ?it/s]"
      ]
     },
     "metadata": {},
     "output_type": "display_data"
    },
    {
     "data": {
      "application/vnd.jupyter.widget-view+json": {
       "model_id": "1483e7561f4c4228922c996c44dcfb12",
       "version_major": 2,
       "version_minor": 0
      },
      "text/plain": [
       "Prepping styles:   0%|          | 0/16 [00:00<?, ?it/s]"
      ]
     },
     "metadata": {},
     "output_type": "display_data"
    },
    {
     "data": {
      "application/vnd.jupyter.widget-view+json": {
       "model_id": "fd16d666a65545a19966939426cb8fb4",
       "version_major": 2,
       "version_minor": 0
      },
      "text/plain": [
       "Le Sud:   0%|          | 0/5575 [00:00<?, ?it/s]"
      ]
     },
     "metadata": {},
     "output_type": "display_data"
    },
    {
     "data": {
      "application/vnd.jupyter.widget-view+json": {
       "model_id": "77c927e42a4244288f2a53ec51fcbe7d",
       "version_major": 2,
       "version_minor": 0
      },
      "text/plain": [
       "Prepping styles:   0%|          | 0/16 [00:00<?, ?it/s]"
      ]
     },
     "metadata": {},
     "output_type": "display_data"
    },
    {
     "data": {
      "application/vnd.jupyter.widget-view+json": {
       "model_id": "202f0c2aef064f6580dc43daa125c3df",
       "version_major": 2,
       "version_minor": 0
      },
      "text/plain": [
       "Prepping styles:   0%|          | 0/16 [00:00<?, ?it/s]"
      ]
     },
     "metadata": {},
     "output_type": "display_data"
    },
    {
     "data": {
      "application/vnd.jupyter.widget-view+json": {
       "model_id": "23cb4c6421564e699cb09f3ef292afce",
       "version_major": 2,
       "version_minor": 0
      },
      "text/plain": [
       "Snug:   0%|          | 0/4956 [00:00<?, ?it/s]"
      ]
     },
     "metadata": {},
     "output_type": "display_data"
    },
    {
     "data": {
      "application/vnd.jupyter.widget-view+json": {
       "model_id": "d45eed50a09143f89c3ebd55a8113757",
       "version_major": 2,
       "version_minor": 0
      },
      "text/plain": [
       "Prepping styles:   0%|          | 0/16 [00:00<?, ?it/s]"
      ]
     },
     "metadata": {},
     "output_type": "display_data"
    },
    {
     "data": {
      "application/vnd.jupyter.widget-view+json": {
       "model_id": "03a9e31a909e47f39c70c33d7997f890",
       "version_major": 2,
       "version_minor": 0
      },
      "text/plain": [
       "Prepping styles:   0%|          | 0/16 [00:00<?, ?it/s]"
      ]
     },
     "metadata": {},
     "output_type": "display_data"
    },
    {
     "data": {
      "application/vnd.jupyter.widget-view+json": {
       "model_id": "ecd4f51ba75847ea87aabf7a52269ffd",
       "version_major": 2,
       "version_minor": 0
      },
      "text/plain": [
       "Intro:   0%|          | 0/1405 [00:00<?, ?it/s]"
      ]
     },
     "metadata": {},
     "output_type": "display_data"
    },
    {
     "data": {
      "application/vnd.jupyter.widget-view+json": {
       "model_id": "17aab5a091074a63a526b9e8bd73ea2e",
       "version_major": 2,
       "version_minor": 0
      },
      "text/plain": [
       "Prepping styles:   0%|          | 0/16 [00:00<?, ?it/s]"
      ]
     },
     "metadata": {},
     "output_type": "display_data"
    },
    {
     "data": {
      "application/vnd.jupyter.widget-view+json": {
       "model_id": "75a90d131ba742159e1188c85fc7371c",
       "version_major": 2,
       "version_minor": 0
      },
      "text/plain": [
       "Prepping styles:   0%|          | 0/16 [00:00<?, ?it/s]"
      ]
     },
     "metadata": {},
     "output_type": "display_data"
    },
    {
     "data": {
      "application/vnd.jupyter.widget-view+json": {
       "model_id": "86a90e180ca642f49de46725f7ffbea2",
       "version_major": 2,
       "version_minor": 0
      },
      "text/plain": [
       "Searching:   0%|          | 0/6090 [00:00<?, ?it/s]"
      ]
     },
     "metadata": {},
     "output_type": "display_data"
    },
    {
     "data": {
      "application/vnd.jupyter.widget-view+json": {
       "model_id": "1c6a72a0d87a4b98b77f985a572b9bfd",
       "version_major": 2,
       "version_minor": 0
      },
      "text/plain": [
       "Prepping styles:   0%|          | 0/16 [00:00<?, ?it/s]"
      ]
     },
     "metadata": {},
     "output_type": "display_data"
    },
    {
     "data": {
      "application/vnd.jupyter.widget-view+json": {
       "model_id": "a9daba61348f487cb3e48f9b8adda9ff",
       "version_major": 2,
       "version_minor": 0
      },
      "text/plain": [
       "Prepping styles:   0%|          | 0/16 [00:00<?, ?it/s]"
      ]
     },
     "metadata": {},
     "output_type": "display_data"
    },
    {
     "data": {
      "application/vnd.jupyter.widget-view+json": {
       "model_id": "ac4c5ef5542148e584aa478ebf8f254e",
       "version_major": 2,
       "version_minor": 0
      },
      "text/plain": [
       "Goodmorning:   0%|          | 0/4411 [00:00<?, ?it/s]"
      ]
     },
     "metadata": {},
     "output_type": "display_data"
    },
    {
     "data": {
      "application/vnd.jupyter.widget-view+json": {
       "model_id": "608bebc382ed424eaff5c40eda7a16e9",
       "version_major": 2,
       "version_minor": 0
      },
      "text/plain": [
       "Prepping styles:   0%|          | 0/16 [00:00<?, ?it/s]"
      ]
     },
     "metadata": {},
     "output_type": "display_data"
    },
    {
     "data": {
      "application/vnd.jupyter.widget-view+json": {
       "model_id": "2333a8586b40428d9fc691476d912d99",
       "version_major": 2,
       "version_minor": 0
      },
      "text/plain": [
       "Prepping styles:   0%|          | 0/16 [00:00<?, ?it/s]"
      ]
     },
     "metadata": {},
     "output_type": "display_data"
    },
    {
     "data": {
      "application/vnd.jupyter.widget-view+json": {
       "model_id": "e81ec688be674341bb6490a3daa8f1c8",
       "version_major": 2,
       "version_minor": 0
      },
      "text/plain": [
       "Foggy Road:   0%|          | 0/4863 [00:00<?, ?it/s]"
      ]
     },
     "metadata": {},
     "output_type": "display_data"
    },
    {
     "data": {
      "application/vnd.jupyter.widget-view+json": {
       "model_id": "d8070bd197014af899dcc0b07ea86178",
       "version_major": 2,
       "version_minor": 0
      },
      "text/plain": [
       "Prepping styles:   0%|          | 0/16 [00:00<?, ?it/s]"
      ]
     },
     "metadata": {},
     "output_type": "display_data"
    },
    {
     "data": {
      "application/vnd.jupyter.widget-view+json": {
       "model_id": "ab6e87465de34d5fbfbe4764bfc94ab2",
       "version_major": 2,
       "version_minor": 0
      },
      "text/plain": [
       "Prepping styles:   0%|          | 0/16 [00:00<?, ?it/s]"
      ]
     },
     "metadata": {},
     "output_type": "display_data"
    },
    {
     "data": {
      "application/vnd.jupyter.widget-view+json": {
       "model_id": "b57e91702f3548eca7e670c9cb2c725c",
       "version_major": 2,
       "version_minor": 0
      },
      "text/plain": [
       "Fate:   0%|          | 0/7624 [00:00<?, ?it/s]"
      ]
     },
     "metadata": {},
     "output_type": "display_data"
    },
    {
     "data": {
      "application/vnd.jupyter.widget-view+json": {
       "model_id": "54193ef01afc450e8bace58180e5312c",
       "version_major": 2,
       "version_minor": 0
      },
      "text/plain": [
       "Prepping styles:   0%|          | 0/16 [00:00<?, ?it/s]"
      ]
     },
     "metadata": {},
     "output_type": "display_data"
    },
    {
     "data": {
      "application/vnd.jupyter.widget-view+json": {
       "model_id": "2ff8c79d3d3942fdbded571dda34b0ed",
       "version_major": 2,
       "version_minor": 0
      },
      "text/plain": [
       "Prepping styles:   0%|          | 0/16 [00:00<?, ?it/s]"
      ]
     },
     "metadata": {},
     "output_type": "display_data"
    },
    {
     "data": {
      "application/vnd.jupyter.widget-view+json": {
       "model_id": "8324849211dd469fbe257e4a82fcaa75",
       "version_major": 2,
       "version_minor": 0
      },
      "text/plain": [
       "Clocks Forward:   0%|          | 0/4236 [00:00<?, ?it/s]"
      ]
     },
     "metadata": {},
     "output_type": "display_data"
    },
    {
     "data": {
      "application/vnd.jupyter.widget-view+json": {
       "model_id": "c9e0b022dc2e4731a6bc8d8dfccdbee4",
       "version_major": 2,
       "version_minor": 0
      },
      "text/plain": [
       "Prepping styles:   0%|          | 0/16 [00:00<?, ?it/s]"
      ]
     },
     "metadata": {},
     "output_type": "display_data"
    },
    {
     "data": {
      "application/vnd.jupyter.widget-view+json": {
       "model_id": "5f6756e70eef403b9f2963a4f20944b5",
       "version_major": 2,
       "version_minor": 0
      },
      "text/plain": [
       "Prepping styles:   0%|          | 0/16 [00:00<?, ?it/s]"
      ]
     },
     "metadata": {},
     "output_type": "display_data"
    },
    {
     "data": {
      "application/vnd.jupyter.widget-view+json": {
       "model_id": "526ed2ba95b64be2a95e8cd5dcb7c28a",
       "version_major": 2,
       "version_minor": 0
      },
      "text/plain": [
       "Sofa Stories:   0%|          | 0/5678 [00:00<?, ?it/s]"
      ]
     },
     "metadata": {},
     "output_type": "display_data"
    },
    {
     "data": {
      "application/vnd.jupyter.widget-view+json": {
       "model_id": "2643c08039c84e02901856393c1448b9",
       "version_major": 2,
       "version_minor": 0
      },
      "text/plain": [
       "Prepping styles:   0%|          | 0/16 [00:00<?, ?it/s]"
      ]
     },
     "metadata": {},
     "output_type": "display_data"
    },
    {
     "data": {
      "application/vnd.jupyter.widget-view+json": {
       "model_id": "d18619c98cee400c88af9e14b1f64463",
       "version_major": 2,
       "version_minor": 0
      },
      "text/plain": [
       "Prepping styles:   0%|          | 0/16 [00:00<?, ?it/s]"
      ]
     },
     "metadata": {},
     "output_type": "display_data"
    },
    {
     "data": {
      "application/vnd.jupyter.widget-view+json": {
       "model_id": "3b1f0f4d18bd498ebe2c57707356f800",
       "version_major": 2,
       "version_minor": 0
      },
      "text/plain": [
       "nomads of the sea:   0%|          | 0/4353 [00:00<?, ?it/s]"
      ]
     },
     "metadata": {},
     "output_type": "display_data"
    },
    {
     "data": {
      "application/vnd.jupyter.widget-view+json": {
       "model_id": "cc5360748d6c48aba98e751fab7c02ab",
       "version_major": 2,
       "version_minor": 0
      },
      "text/plain": [
       "Prepping styles:   0%|          | 0/16 [00:00<?, ?it/s]"
      ]
     },
     "metadata": {},
     "output_type": "display_data"
    },
    {
     "data": {
      "application/vnd.jupyter.widget-view+json": {
       "model_id": "389f4b3eff4c42e8963779ac9dc06998",
       "version_major": 2,
       "version_minor": 0
      },
      "text/plain": [
       "Prepping styles:   0%|          | 0/16 [00:00<?, ?it/s]"
      ]
     },
     "metadata": {},
     "output_type": "display_data"
    },
    {
     "data": {
      "application/vnd.jupyter.widget-view+json": {
       "model_id": "2c01bad926204f16b41d72b5094f4561",
       "version_major": 2,
       "version_minor": 0
      },
      "text/plain": [
       "Driftaway:   0%|          | 0/4216 [00:00<?, ?it/s]"
      ]
     },
     "metadata": {},
     "output_type": "display_data"
    },
    {
     "data": {
      "application/vnd.jupyter.widget-view+json": {
       "model_id": "b9b7f75072cf4c1ea38324987cbe4820",
       "version_major": 2,
       "version_minor": 0
      },
      "text/plain": [
       "Prepping styles:   0%|          | 0/16 [00:00<?, ?it/s]"
      ]
     },
     "metadata": {},
     "output_type": "display_data"
    },
    {
     "data": {
      "application/vnd.jupyter.widget-view+json": {
       "model_id": "e2877d425ef840cfae932b62f9eaef75",
       "version_major": 2,
       "version_minor": 0
      },
      "text/plain": [
       "Prepping styles:   0%|          | 0/16 [00:00<?, ?it/s]"
      ]
     },
     "metadata": {},
     "output_type": "display_data"
    },
    {
     "data": {
      "application/vnd.jupyter.widget-view+json": {
       "model_id": "76d6c5f7df3f4eee8f0e3213d89b2690",
       "version_major": 2,
       "version_minor": 0
      },
      "text/plain": [
       "Something Warm:   0%|          | 0/6018 [00:00<?, ?it/s]"
      ]
     },
     "metadata": {},
     "output_type": "display_data"
    },
    {
     "data": {
      "application/vnd.jupyter.widget-view+json": {
       "model_id": "5a907075bf8f47a08cfcd10d3b918bfe",
       "version_major": 2,
       "version_minor": 0
      },
      "text/plain": [
       "Prepping styles:   0%|          | 0/16 [00:00<?, ?it/s]"
      ]
     },
     "metadata": {},
     "output_type": "display_data"
    },
    {
     "data": {
      "application/vnd.jupyter.widget-view+json": {
       "model_id": "bd9138e0255f4e408b1be599594ccd47",
       "version_major": 2,
       "version_minor": 0
      },
      "text/plain": [
       "Prepping styles:   0%|          | 0/16 [00:00<?, ?it/s]"
      ]
     },
     "metadata": {},
     "output_type": "display_data"
    },
    {
     "data": {
      "application/vnd.jupyter.widget-view+json": {
       "model_id": "9099079eb4ea49bea6bbf96bde59b746",
       "version_major": 2,
       "version_minor": 0
      },
      "text/plain": [
       "Mercadia:   0%|          | 0/3823 [00:00<?, ?it/s]"
      ]
     },
     "metadata": {},
     "output_type": "display_data"
    }
   ],
   "source": [
    "models = [\"model/pastichemodel_style3_3-FINAL.pth\",\n",
    "    \"model/pastichemodel_style2_3-FINAL.pth\",\n",
    "         \"model/pastichemodel_style1_2-FINAL.pth\",\n",
    "          \"model/pastichemodel-FINAL.pth\"]\n",
    "im_and_mask_folders = [r'C:\\deep_style_beats\\images\\Space1',\n",
    "                       r'C:\\deep_style_beats\\images\\Space2',\n",
    "                      r'C:\\deep_style_beats\\images\\gegarin']\n",
    "\n",
    "#path = r'C:\\deep_style_beats\\images\\birds'\n",
    "#im_and_mask_folders = [f.path for f in os.scandir(path) if f.is_dir()]\n",
    "create_music_video(df[2], im_and_mask_folders, models, ims_per_style=20)"
   ]
  },
  {
   "cell_type": "code",
   "execution_count": 16,
   "id": "c757b39b",
   "metadata": {},
   "outputs": [
    {
     "data": {
      "text/plain": [
       "\"C:\\\\deep_style_beats\\\\audio\\\\chillhop\\\\set2\\\\We Must Believe in Spring\\\\Joey's Gone.mp3\""
      ]
     },
     "execution_count": 16,
     "metadata": {},
     "output_type": "execute_result"
    }
   ],
   "source": [
    "df[2].loc[110].fpath"
   ]
  },
  {
   "cell_type": "code",
   "execution_count": 8,
   "id": "b170b734",
   "metadata": {},
   "outputs": [
    {
     "name": "stdout",
     "output_type": "stream",
     "text": [
      "Feeling Lost\n",
      "Aries\n",
      "Upset (hold it in)\n",
      "Lighthouse\n",
      "Comfort\n",
      "everything you say\n",
      "Eastway\n",
      "Voyage\n",
      "Endless Ether\n",
      "Fireplace\n",
      "Sleep Shop\n",
      "Wistful\n",
      "Rekindling\n",
      "Winter Winter\n",
      "Hibiscus Emoji\n",
      "Le Sud\n",
      "Snug\n",
      "Intro\n",
      "Searching\n",
      "Goodmorning\n",
      "Foggy Road\n",
      "Fate\n",
      "Clocks Forward\n",
      "Sofa Stories\n",
      "nomads of the sea\n",
      "Driftaway\n",
      "Something Warm\n",
      "Mercadia\n"
     ]
    }
   ],
   "source": [
    "#combine all composed vidoes into 1 big video\n",
    "#full_video_fname = 'set3_a.mp4'\n",
    "#full_video_dir = r'C:\\deep_style_beats\\full_video\\\\'\n",
    "#out_path = full_video_dir + full_video_fname\n",
    "track_list_path = r'C:\\deep_style_beats\\video\\tmp_track_list.txt'\n",
    "with open(track_list_path, 'w') as w:\n",
    "    for ii, t in df[2].reset_index().iterrows():\n",
    "        print(t.title)\n",
    "        track_path = r'C:\\deep_style_beats\\composed_video\\\\' + t.title.replace(' ', '_') + '.avi'\n",
    "        w.write(\"file '\"+track_path+\"'\\n\")\n",
    "\n"
   ]
  },
  {
   "cell_type": "code",
   "execution_count": 10,
   "id": "3944dec8",
   "metadata": {},
   "outputs": [
    {
     "name": "stdout",
     "output_type": "stream",
     "text": [
      "ffmpeg -f concat -safe 0 -i C:\\deep_style_beats\\video\\tmp_track_list.txt -c:v copy C:\\deep_style_beats\\full_video\\\\set3_c.mp4 -vcodec libx264 -c:a aac\n"
     ]
    },
    {
     "data": {
      "text/plain": [
       "0"
      ]
     },
     "execution_count": 10,
     "metadata": {},
     "output_type": "execute_result"
    }
   ],
   "source": [
    "track_list_path = r'C:\\deep_style_beats\\video\\tmp_track_list.txt'\n",
    "\n",
    "full_video_fname = 'set3_c.mp4'\n",
    "full_video_dir = r'C:\\deep_style_beats\\full_video\\\\'\n",
    "out_path = full_video_dir + full_video_fname\n",
    "command = 'ffmpeg -f concat -safe 0 -i %s -c:v copy %s -vcodec libx264 -c:a aac' %(track_list_path, out_path)\n",
    "#   -fflags +genpts    ---- add before -f maybe?\n",
    "print(command)\n",
    "subprocess.call(command, shell=True)"
   ]
  },
  {
   "cell_type": "code",
   "execution_count": 11,
   "id": "636556df",
   "metadata": {},
   "outputs": [
    {
     "name": "stdout",
     "output_type": "stream",
     "text": [
      "[00:00:00] Leavv - Voyage\n",
      "     https://chll.to/d4e44865\n",
      "\n",
      "[00:02:19] Swørn - Feeling Lost\n",
      "     https://chll.to/13909f85\n",
      "\n",
      "[00:04:25] SwuM - Aries\n",
      "     https://chll.to/e31fa393\n",
      "\n",
      "[00:07:06] Swørn - Upset (hold it in)\n",
      "     https://chll.to/910d700a\n",
      "\n",
      "[00:08:52] Leavv - Lighthouse\n",
      "     https://chll.to/e55fb9f1\n",
      "\n",
      "[00:11:11] Ward Wills - Comfort\n",
      "     https://chll.to/14736651\n",
      "\n",
      "[00:14:10] Philanthrope, mommy - everything you say\n",
      "     https://chll.to/b9099ee6\n",
      "\n",
      "[00:16:48] Dontcry, Nokiaa - Eastway\n",
      "     https://chll.to/218bde2f\n",
      "\n",
      "[00:19:15] fantompower - Endless Ether\n",
      "     https://chll.to/d60e90af\n",
      "\n",
      "[00:22:37] Sleepy Fish - Fireplace\n",
      "     https://chll.to/63eed366\n",
      "\n",
      "[00:25:15] Cloudchord, Soul Food Horns - Sleep Shop\n",
      "     https://chll.to/909bb4c4\n",
      "\n",
      "[00:27:34] Toonorth - Wistful\n",
      "     https://chll.to/0537dc35\n",
      "\n",
      "[00:32:38] L'Indécis - Rekindling\n",
      "     https://chll.to/c2e9382c\n",
      "\n",
      "[00:36:06] Sleepy Fish - Winter Winter\n",
      "     https://chll.to/2579a2fa\n",
      "\n",
      "[00:39:37] Strehlow - Hibiscus Emoji\n",
      "     https://chll.to/d376fba2\n",
      "\n",
      "[00:41:36] L'Indécis - Le Sud\n",
      "     https://chll.to/e64037ec\n",
      "\n",
      "[00:44:41] Aso - Snug\n",
      "     https://chll.to/91b1fc4b\n",
      "\n",
      "[00:47:27] L'Indécis - Intro\n",
      "     https://chll.to/fac89641\n",
      "\n",
      "[00:48:13] Philanthrope, cocabona, Monma, Misha, Louk - Searching\n",
      "     https://chll.to/698c89a1\n",
      "\n",
      "[00:51:36] Aviino - Goodmorning\n",
      "     https://chll.to/c07bc1b7\n",
      "\n",
      "[00:54:03] Toonorth - Foggy Road\n",
      "     https://chll.to/52c11197\n",
      "\n",
      "[00:56:46] xander. - Fate\n",
      "     https://chll.to/c82b41af\n",
      "\n",
      "[01:01:00] Psalm Trees, Guillaume Muschalle - Clocks Forward\n",
      "     https://chll.to/e2bc3e87\n",
      "\n",
      "[01:03:21] Moods, Yasper - Sofa Stories\n",
      "     https://chll.to/0184cf69\n",
      "\n",
      "[01:06:30] santpoort - nomads of the sea\n",
      "     https://chll.to/ddf3631e\n",
      "\n",
      "[01:08:55] Tesk, No Spirit, Sitting Duck - Driftaway\n",
      "     https://chll.to/902241a9\n",
      "\n",
      "[01:11:16] No Spirit - Something Warm\n",
      "     https://chll.to/c3b9af2b\n",
      "\n",
      "[01:14:36] Kupla - Mercadia\n",
      "     https://chll.to/d78f675e\n",
      "\n"
     ]
    }
   ],
   "source": [
    "#create track list description FROM TRACKLIST\n",
    "this_df = df[2]\n",
    "bad_sr = 100\n",
    "start_time = 0\n",
    "track_list_path = r'C:\\deep_style_beats\\video\\tmp_track_list.txt'\n",
    "with open(track_list_path, 'r') as w:\n",
    "    for l in w:\n",
    "        title = l.split('\\\\\\\\')[1][:-6]\n",
    "        #print(title)\n",
    "        t = this_df[this_df['title'] == title.replace('_', ' ')].iloc[0]\n",
    "        #print(t)\n",
    "        minutes, seconds = divmod(start_time, 60)\n",
    "        hours, minutes = divmod(minutes, 60)\n",
    "        print(\"[%02d:%02d:%02d]\"%(hours,minutes,seconds), end=' ')\n",
    "        print(t['artist'], '-', t['title'])\n",
    "        print('    ', t['link'])\n",
    "        print('')\n",
    "        zt, sr = librosa.load(t['fpath'], offset = 0.0, duration = None, sr=bad_sr)\n",
    "        start_time += librosa.get_duration(zt, bad_sr)\n"
   ]
  },
  {
   "cell_type": "code",
   "execution_count": 12,
   "id": "26016f92",
   "metadata": {},
   "outputs": [],
   "source": [
    "# create thumbnail\n",
    "inference = load_model(models[0])"
   ]
  },
  {
   "cell_type": "code",
   "execution_count": 14,
   "id": "f9645e3b",
   "metadata": {},
   "outputs": [
    {
     "name": "stderr",
     "output_type": "stream",
     "text": [
      "Lossy conversion from int32 to uint8. Range [0, 254]. Convert image to uint8 prior to saving to suppress this warning.\n",
      "Lossy conversion from int32 to uint8. Range [0, 254]. Convert image to uint8 prior to saving to suppress this warning.\n",
      "Lossy conversion from int32 to uint8. Range [0, 240]. Convert image to uint8 prior to saving to suppress this warning.\n",
      "Lossy conversion from int32 to uint8. Range [1, 252]. Convert image to uint8 prior to saving to suppress this warning.\n",
      "Lossy conversion from int32 to uint8. Range [0, 254]. Convert image to uint8 prior to saving to suppress this warning.\n",
      "Lossy conversion from int32 to uint8. Range [0, 254]. Convert image to uint8 prior to saving to suppress this warning.\n",
      "Lossy conversion from int32 to uint8. Range [4, 254]. Convert image to uint8 prior to saving to suppress this warning.\n",
      "Lossy conversion from int32 to uint8. Range [0, 254]. Convert image to uint8 prior to saving to suppress this warning.\n",
      "Lossy conversion from int32 to uint8. Range [6, 250]. Convert image to uint8 prior to saving to suppress this warning.\n",
      "Lossy conversion from int32 to uint8. Range [0, 252]. Convert image to uint8 prior to saving to suppress this warning.\n",
      "Lossy conversion from int32 to uint8. Range [0, 253]. Convert image to uint8 prior to saving to suppress this warning.\n",
      "Lossy conversion from int32 to uint8. Range [2, 254]. Convert image to uint8 prior to saving to suppress this warning.\n",
      "Lossy conversion from int32 to uint8. Range [0, 254]. Convert image to uint8 prior to saving to suppress this warning.\n",
      "Lossy conversion from int32 to uint8. Range [0, 254]. Convert image to uint8 prior to saving to suppress this warning.\n",
      "Lossy conversion from int32 to uint8. Range [0, 254]. Convert image to uint8 prior to saving to suppress this warning.\n",
      "Lossy conversion from int32 to uint8. Range [0, 253]. Convert image to uint8 prior to saving to suppress this warning.\n"
     ]
    }
   ],
   "source": [
    "\n",
    "path = r'C:\\deep_style_beats\\thumbnails'\n",
    "ref_im, masks = get_ref_and_masks(im_and_mask_folders[0])\n",
    "\n",
    "for i in range(16):\n",
    "    im = get_multi_transformations(ref_im, [i/16, i/16, i/16], masks, strength=[1,1, 1,0.5])\n",
    "    imageio.imsave(path+'\\\\'+str(i)+'.png', im)"
   ]
  },
  {
   "cell_type": "code",
   "execution_count": 15,
   "id": "dcc80e8a",
   "metadata": {},
   "outputs": [
    {
     "name": "stderr",
     "output_type": "stream",
     "text": [
      "Lossy conversion from int32 to uint8. Range [4, 251]. Convert image to uint8 prior to saving to suppress this warning.\n"
     ]
    }
   ],
   "source": [
    "path = r'C:\\deep_style_beats\\thumbnails\\final.jpg'\n",
    "ref_im, masks = get_ref_and_masks(im_and_mask_folders[0])\n",
    "im = get_multi_transformations(ref_im, [6/16, 3/16, 8/16], masks, strength=[1,1,1,0.5])\n",
    "imageio.imsave(path, im)"
   ]
  },
  {
   "cell_type": "code",
   "execution_count": null,
   "id": "3a80b7cd",
   "metadata": {},
   "outputs": [],
   "source": []
  }
 ],
 "metadata": {
  "kernelspec": {
   "display_name": "Python 3",
   "language": "python",
   "name": "python3"
  },
  "language_info": {
   "codemirror_mode": {
    "name": "ipython",
    "version": 3
   },
   "file_extension": ".py",
   "mimetype": "text/x-python",
   "name": "python",
   "nbconvert_exporter": "python",
   "pygments_lexer": "ipython3",
   "version": "3.7.10"
  }
 },
 "nbformat": 4,
 "nbformat_minor": 5
}
